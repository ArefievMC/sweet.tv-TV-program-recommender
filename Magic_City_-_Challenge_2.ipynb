{
 "cells": [
  {
   "cell_type": "code",
   "execution_count": 1,
   "metadata": {},
   "outputs": [],
   "source": [
    "import pandas as pd\n",
    "import numpy as np\n",
    "import random\n",
    "import implicit\n",
    "from tqdm.notebook import tqdm\n",
    "from scipy.sparse import coo_matrix, csr_matrix\n",
    "from implicit.nearest_neighbours import BM25Recommender, CosineRecommender, TFIDFRecommender\n",
    "import copy\n",
    "from implicit.als import AlternatingLeastSquares\n",
    "from implicit.bpr import BayesianPersonalizedRanking\n",
    "from sklearn.model_selection import StratifiedKFold, KFold, GroupKFold\n",
    "from sklearn.metrics import mean_squared_error, log_loss, roc_auc_score\n",
    "import lightgbm as lgb"
   ]
  },
  {
   "cell_type": "code",
   "execution_count": 2,
   "metadata": {},
   "outputs": [
    {
     "name": "stderr",
     "output_type": "stream",
     "text": [
      "/opt/anaconda3/lib/python3.8/site-packages/IPython/core/interactiveshell.py:3071: DtypeWarning: Columns (10) have mixed types.Specify dtype option on import or set low_memory=False.\n",
      "  has_raised = await self.run_ast_nodes(code_ast.body, cell_name,\n"
     ]
    }
   ],
   "source": [
    "data = pd.read_csv('dataset11-30.csv')\n",
    "train_1 = pd.read_csv('export_arh_11-20-final.csv')\n",
    "train_2 = pd.read_csv('export_arh_21-30-final.csv')\n",
    "train_3 = pd.read_csv('export_arh_31-42-final.csv')\n",
    "\n",
    "tv_schedule = pd.concat([train_1, train_2, train_3], axis = 0).reset_index(drop = True)\n",
    "\n",
    "subm = pd.read_csv('submission.csv')"
   ]
  },
  {
   "cell_type": "code",
   "execution_count": 3,
   "metadata": {},
   "outputs": [],
   "source": [
    "subm.user_id = subm.user_id.astype(str)"
   ]
  },
  {
   "cell_type": "code",
   "execution_count": 4,
   "metadata": {},
   "outputs": [],
   "source": [
    "tv_schedule.tv_show_id = tv_schedule.tv_show_id.astype(str)\n",
    "tv_schedule.channel_id = tv_schedule.channel_id.astype(str)"
   ]
  },
  {
   "cell_type": "code",
   "execution_count": 5,
   "metadata": {},
   "outputs": [],
   "source": [
    "data.user_id = data.user_id.astype(str)\n",
    "data.vsetv_id = data.vsetv_id.astype(str)"
   ]
  },
  {
   "cell_type": "code",
   "execution_count": 6,
   "metadata": {},
   "outputs": [],
   "source": [
    "data.start_time = pd.to_datetime(data.start_time, format = '%Y-%m-%d')\n",
    "data.stop_time = pd.to_datetime(data.stop_time, format = '%Y-%m-%d')\n",
    "\n",
    "data['date'] = pd.to_datetime(data.start_time.dt.date)\n",
    "data = data.sort_values('start_time').reset_index(drop = True)\n",
    "\n",
    "tv_schedule = tv_schedule[tv_schedule.tv_show_id != '0']\n",
    "tv_schedule['start_time'] = pd.to_datetime(tv_schedule['start_time'], format = '%d.%m.%Y %H:%M:%S')\n",
    "tv_schedule = tv_schedule.sort_values('start_time').reset_index(drop = True)"
   ]
  },
  {
   "cell_type": "code",
   "execution_count": 7,
   "metadata": {},
   "outputs": [],
   "source": [
    "date_list = sorted(data['date'].unique())"
   ]
  },
  {
   "cell_type": "code",
   "execution_count": 8,
   "metadata": {},
   "outputs": [],
   "source": [
    "index_dict = data.groupby('user_id').apply(lambda x: x.index).to_dict()\n",
    "tv_schedule_dict = tv_schedule.groupby('channel_id').apply(lambda x: x.index).to_dict()"
   ]
  },
  {
   "cell_type": "code",
   "execution_count": 9,
   "metadata": {},
   "outputs": [],
   "source": [
    "tv_schedule['end_time'] = tv_schedule['start_time'] + pd.Series([np.timedelta64(x, 's') for x in tv_schedule['duration'].values])"
   ]
  },
  {
   "cell_type": "code",
   "execution_count": 10,
   "metadata": {},
   "outputs": [],
   "source": [
    "schedule = tv_schedule[['start_time', 'end_time', 'tv_show_id', 'duration']].values"
   ]
  },
  {
   "cell_type": "code",
   "execution_count": 11,
   "metadata": {},
   "outputs": [
    {
     "data": {
      "application/vnd.jupyter.widget-view+json": {
       "model_id": "bd29563288fb40d185a693f19bc03e37",
       "version_major": 2,
       "version_minor": 0
      },
      "text/plain": [
       "HBox(children=(FloatProgress(value=0.0, max=196.0), HTML(value='')))"
      ]
     },
     "metadata": {},
     "output_type": "display_data"
    },
    {
     "name": "stdout",
     "output_type": "stream",
     "text": [
      "\n"
     ]
    }
   ],
   "source": [
    "new_dict = {}\n",
    "for k in tqdm(tv_schedule_dict):\n",
    "    channel_index = tv_schedule_dict[k]\n",
    "#     print(channel_index)\n",
    "    new_dict[k] = schedule[channel_index, :]\n",
    "tv_schedule_dict = dict(new_dict)\n",
    "del new_dict"
   ]
  },
  {
   "cell_type": "code",
   "execution_count": 12,
   "metadata": {},
   "outputs": [],
   "source": [
    "m = data[['vsetv_id', 'start_time', 'stop_time', 'duraton']].values"
   ]
  },
  {
   "cell_type": "code",
   "execution_count": 13,
   "metadata": {},
   "outputs": [
    {
     "data": {
      "application/vnd.jupyter.widget-view+json": {
       "model_id": "318f40d4e50f4129816bfc1eb6674ab2",
       "version_major": 2,
       "version_minor": 0
      },
      "text/plain": [
       "HBox(children=(FloatProgress(value=0.0, max=5821987.0), HTML(value='')))"
      ]
     },
     "metadata": {},
     "output_type": "display_data"
    },
    {
     "name": "stdout",
     "output_type": "stream",
     "text": [
      "\n"
     ]
    }
   ],
   "source": [
    "dict_cols = {'show_list':[], 'duration_ratio':[]}\n",
    "for channel, start, end, duration in tqdm(m):\n",
    "    if not channel in tv_schedule_dict:\n",
    "        dict_cols['show_list'] += [[]] \n",
    "        dict_cols['duration_ratio'] += [[]]\n",
    "        continue \n",
    "    channel_array_start = tv_schedule_dict[channel][:, 0]\n",
    "    channel_array_end = tv_schedule_dict[channel][:, 1]\n",
    "    show_id_array = tv_schedule_dict[channel][:, 2]\n",
    "    show_duration_array = tv_schedule_dict[channel][:, 3]\n",
    "    ind_first = max(np.searchsorted(channel_array_start, start, side = 'right') - 1, 0)\n",
    "    ind_last = max(np.searchsorted(channel_array_start, end, side = 'right') - 1, 0)\n",
    "    \n",
    "    show_list = []\n",
    "    duration_ratio = []\n",
    "    for i in range(ind_first, ind_last + 1):\n",
    "#         print(start, end)\n",
    "#         print(channel_array_start[i], channel_array_end[i])\n",
    "        if channel_array_start[i] <= end and channel_array_end[i] >= start:\n",
    "            cur_duration = (min(channel_array_end[i], end) - max(start, channel_array_start[i])).total_seconds()\n",
    "            duration_ratio += [cur_duration / show_duration_array[i]]\n",
    "            show_list += [show_id_array[i]]\n",
    "    dict_cols['show_list'] += [show_list] \n",
    "    dict_cols['duration_ratio'] += [duration_ratio]\n",
    "#         print('HAAAI')\n",
    "#     print('\\n\\n\\n\\n')"
   ]
  },
  {
   "cell_type": "code",
   "execution_count": 14,
   "metadata": {},
   "outputs": [],
   "source": [
    "data['show_list'] = dict_cols['show_list']\n",
    "data['duration_ratio'] = dict_cols['duration_ratio']"
   ]
  },
  {
   "cell_type": "code",
   "execution_count": 15,
   "metadata": {},
   "outputs": [],
   "source": [
    "data['len_show_list'] = data['show_list'].apply(lambda x: len(x))"
   ]
  },
  {
   "cell_type": "code",
   "execution_count": 16,
   "metadata": {},
   "outputs": [],
   "source": [
    "data = data[data['len_show_list'] > 0].reset_index(drop = True)"
   ]
  },
  {
   "cell_type": "code",
   "execution_count": 17,
   "metadata": {},
   "outputs": [],
   "source": [
    "def map_per_image(label, predictions):   \n",
    "    try:\n",
    "        return 1 / (predictions[:5].index(label) + 1)\n",
    "    except ValueError:\n",
    "        return 0.0\n",
    "\n",
    "def map_per_set(labels, predictions):\n",
    "    return np.mean([map_per_image(l, p) for l,p in zip(labels, predictions)])"
   ]
  },
  {
   "cell_type": "code",
   "execution_count": 18,
   "metadata": {},
   "outputs": [],
   "source": [
    "def create_valid(df):\n",
    "    cnt_good = 0\n",
    "    cnt_bad = 0\n",
    "    dict_user = {'user':[], 'target_shows':[]}\n",
    "    user_index_dict = df.groupby('user_id').apply(lambda x: x.index).to_dict()\n",
    "    for user in tqdm(user_index_dict):\n",
    "        user_shows = []\n",
    "        cur_df = df.loc[user_index_dict[user], :].reset_index(drop = True)\n",
    "        for show_list, ratio_list in cur_df[['show_list', 'duration_ratio']].values:\n",
    "            for i in range(len(show_list)):\n",
    "                if ratio_list[i] > 0.8:\n",
    "                    cnt_good += 1\n",
    "                    user_shows += [show_list[i]]\n",
    "                else:\n",
    "                    cnt_bad += 1\n",
    "        user_shows = list(pd.Series(user_shows).value_counts().index)\n",
    "        if len(user_shows) < 5:\n",
    "            continue\n",
    "        dict_user['user'] += [user]\n",
    "        dict_user['target_shows'] += [user_shows[:5]]\n",
    "#         print(cnt_good, cnt_bad, cnt_good / (cnt_good + cnt_bad))\n",
    "    return pd.DataFrame(dict_user)"
   ]
  },
  {
   "cell_type": "code",
   "execution_count": 19,
   "metadata": {},
   "outputs": [],
   "source": [
    "def get_something(df, target_dates):\n",
    "    score_list = []\n",
    "    start_date = target_dates[0]\n",
    "    end_date = target_dates[-1]\n",
    "    \n",
    "    train = df[df.start_time < start_date].reset_index(drop = True)\n",
    "    valid = df[(df.start_time >= start_date) & (df.start_time <= end_date)].reset_index(drop = True)\n",
    "    valid = create_valid(valid)\n",
    "    return train, valid"
   ]
  },
  {
   "cell_type": "code",
   "execution_count": 20,
   "metadata": {},
   "outputs": [
    {
     "data": {
      "application/vnd.jupyter.widget-view+json": {
       "model_id": "2412c86fbb184da9b031f516748e4e2b",
       "version_major": 2,
       "version_minor": 0
      },
      "text/plain": [
       "HBox(children=(FloatProgress(value=0.0, max=4840.0), HTML(value='')))"
      ]
     },
     "metadata": {},
     "output_type": "display_data"
    },
    {
     "name": "stderr",
     "output_type": "stream",
     "text": [
      "<ipython-input-18-b9a1df7ca65a>:16: DeprecationWarning: The default dtype for empty Series will be 'object' instead of 'float64' in a future version. Specify a dtype explicitly to silence this warning.\n",
      "  user_shows = list(pd.Series(user_shows).value_counts().index)\n"
     ]
    },
    {
     "name": "stdout",
     "output_type": "stream",
     "text": [
      "\n"
     ]
    }
   ],
   "source": [
    "train, valid = get_something(data, date_list[-84:])"
   ]
  },
  {
   "cell_type": "code",
   "execution_count": 21,
   "metadata": {},
   "outputs": [],
   "source": [
    "def create_df(train, users, targets):\n",
    "    df = pd.DataFrame()\n",
    "    all_users_shows = []\n",
    "    for show_list, ratio_list in tqdm(train[['show_list', 'duration_ratio']].values):\n",
    "        for i in range(len(show_list)):\n",
    "            if ratio_list[i] > 0.8:\n",
    "                all_users_shows += [show_list[i]]\n",
    "    all_users_shows = list(pd.Series(all_users_shows).value_counts().index)\n",
    "    \n",
    "    user_index_dict = train.groupby('user_id').apply(lambda x: x.index).to_dict()\n",
    "    if targets is None:\n",
    "        df_dict = {'user_id':[], 'tv_show_id':[]}\n",
    "    else:\n",
    "        df_dict = {'user_id':[], 'tv_show_id':[], 'target':[]}\n",
    "    if targets is None:\n",
    "        targets_new = [[0]] * len(users)\n",
    "    else:\n",
    "        targets_new = targets\n",
    "    for user, target_list in tqdm(zip(users, targets_new)):\n",
    "        target_set = set(target_list)\n",
    "        if user not in user_index_dict:\n",
    "            for x in all_users_shows[:30]:\n",
    "                df_dict['user_id'] += [user]\n",
    "                df_dict['tv_show_id'] += [x]\n",
    "                if targets is None:\n",
    "                    pass\n",
    "                else:\n",
    "                    df_dict['target'] += [1 if x in target_set else 0]\n",
    "            continue\n",
    "        cur_df = train.loc[user_index_dict[user], :]\n",
    "        user_shows = []\n",
    "        for show_list in cur_df['show_list'].values:\n",
    "            for x in show_list:\n",
    "                user_shows += [x]\n",
    "        user_shows = set(list(np.unique(user_shows)))\n",
    "        for x in user_shows:\n",
    "            df_dict['user_id'] += [user]\n",
    "            df_dict['tv_show_id'] += [x]\n",
    "            if targets is None:\n",
    "                pass\n",
    "            else:\n",
    "                df_dict['target'] += [1 if x in target_set else 0]\n",
    "        for x in all_users_shows[:30]:\n",
    "            if x not in user_shows:\n",
    "                df_dict['user_id'] += [user]\n",
    "                df_dict['tv_show_id'] += [x]\n",
    "                if targets is None:\n",
    "                    pass\n",
    "                else:\n",
    "                    df_dict['target'] += [1 if x in target_set else 0]\n",
    "    \n",
    "    return pd.DataFrame(df_dict)"
   ]
  },
  {
   "cell_type": "code",
   "execution_count": 22,
   "metadata": {},
   "outputs": [
    {
     "data": {
      "application/vnd.jupyter.widget-view+json": {
       "model_id": "7ea35498001944e0b0c0a7dd10cac58f",
       "version_major": 2,
       "version_minor": 0
      },
      "text/plain": [
       "HBox(children=(FloatProgress(value=0.0, max=1535484.0), HTML(value='')))"
      ]
     },
     "metadata": {},
     "output_type": "display_data"
    },
    {
     "name": "stdout",
     "output_type": "stream",
     "text": [
      "\n"
     ]
    },
    {
     "data": {
      "application/vnd.jupyter.widget-view+json": {
       "model_id": "a2b92ce1384c4dd2a7acc888fbb776e9",
       "version_major": 2,
       "version_minor": 0
      },
      "text/plain": [
       "HBox(children=(FloatProgress(value=1.0, bar_style='info', max=1.0), HTML(value='')))"
      ]
     },
     "metadata": {},
     "output_type": "display_data"
    },
    {
     "name": "stdout",
     "output_type": "stream",
     "text": [
      "\n"
     ]
    },
    {
     "data": {
      "application/vnd.jupyter.widget-view+json": {
       "model_id": "23b919ba78d0415eb722bfaa546039f0",
       "version_major": 2,
       "version_minor": 0
      },
      "text/plain": [
       "HBox(children=(FloatProgress(value=0.0, max=2964713.0), HTML(value='')))"
      ]
     },
     "metadata": {},
     "output_type": "display_data"
    },
    {
     "name": "stdout",
     "output_type": "stream",
     "text": [
      "\n"
     ]
    },
    {
     "data": {
      "application/vnd.jupyter.widget-view+json": {
       "model_id": "1f6b7fe483f844b9b8d06a9303dc07ef",
       "version_major": 2,
       "version_minor": 0
      },
      "text/plain": [
       "HBox(children=(FloatProgress(value=1.0, bar_style='info', max=1.0), HTML(value='')))"
      ]
     },
     "metadata": {},
     "output_type": "display_data"
    },
    {
     "name": "stdout",
     "output_type": "stream",
     "text": [
      "\n"
     ]
    }
   ],
   "source": [
    "df = create_df(train, valid.user.values, valid.target_shows.values)\n",
    "df_test = create_df(data, subm.user_id.values, None)"
   ]
  },
  {
   "cell_type": "code",
   "execution_count": 23,
   "metadata": {},
   "outputs": [],
   "source": [
    "channel_show_dict = tv_schedule.groupby('tv_show_id')['channel_id'].first().to_dict()"
   ]
  },
  {
   "cell_type": "code",
   "execution_count": 24,
   "metadata": {},
   "outputs": [],
   "source": [
    "def create_features(train, df, date_range):\n",
    "    cnt = 0\n",
    "    cnt_2 = 0\n",
    "    cur_schedule = tv_schedule[(tv_schedule.start_time >= date_range[0]) & (tv_schedule.start_time <= date_range[1])]\n",
    "    schedule_dict = cur_schedule.tv_show_id.value_counts(normalize = True).to_dict()\n",
    "    dict_ratio_features = {}\n",
    "    dict_show_ratio = {}\n",
    "    favorite_channel_dict = {}\n",
    "    user_duration_dict = {}\n",
    "    for user, channel, duration, show_list, duration_list in tqdm(train[['user_id', 'vsetv_id', 'duraton', 'show_list', 'duration_ratio']].values):\n",
    "#         print(duration_list)\n",
    "        if user not in dict_ratio_features:\n",
    "            dict_ratio_features[user] = {}\n",
    "        if user not in user_duration_dict:\n",
    "            user_duration_dict[user] = []\n",
    "        user_duration_dict[user] += [duration]\n",
    "        \n",
    "        if user not in favorite_channel_dict:\n",
    "            favorite_channel_dict[user] = []\n",
    "        favorite_channel_dict[user] += [channel]\n",
    "        \n",
    "        for i in range(len(show_list)):\n",
    "            if show_list[i] not in dict_ratio_features[user]:\n",
    "                dict_ratio_features[user][show_list[i]] = []\n",
    "            if show_list[i] not in dict_show_ratio:\n",
    "                dict_show_ratio[show_list[i]] = []\n",
    "            dict_show_ratio[show_list[i]] += [duration_list[i]]\n",
    "            cnt += 1\n",
    "            dict_ratio_features[user][show_list[i]] += [duration_list[i]]\n",
    "#     print(dict_ratio_features[user])\n",
    "    dict_user_show_counts = {}\n",
    "    \n",
    "    for k in favorite_channel_dict:\n",
    "        favorite_channel_dict[k] = pd.Series(favorite_channel_dict[k]).value_counts(normalize = True).to_dict()\n",
    "    \n",
    "    for k in dict_ratio_features:\n",
    "        if k not in dict_user_show_counts:\n",
    "            dict_user_show_counts[k] = 0\n",
    "        for x in dict_ratio_features[k]:\n",
    "            dict_user_show_counts[k] += len(dict_ratio_features[k][x])\n",
    "    \n",
    "    show_ratio_mean_dict = {}\n",
    "    show_ratio_median_dict = {}\n",
    "    cnt_show_ratio = {}\n",
    "    all_shows = 0\n",
    "    \n",
    "    for k in dict_show_ratio:\n",
    "        show_ratio_mean_dict[k] = np.mean(dict_show_ratio[k])\n",
    "        show_ratio_median_dict[k] = np.median(dict_show_ratio[k])\n",
    "        all_shows += len(dict_show_ratio[k])\n",
    "        cnt_show_ratio[k] = len(dict_show_ratio[k])\n",
    "    \n",
    "    for k in cnt_show_ratio:\n",
    "        cnt_show_ratio[k] /= all_shows\n",
    "    \n",
    "    dict_df_features = {'ratio_max':[], 'ratio_mean':[], 'ratio_median':[], 'ratio_min':[], 'cnt_show':[], \n",
    "                        'mean_show_ratio':[], 'median_show_ratio':[], 'cnt_show_all_normal':[], \n",
    "                       'channel_ratio':[], 'scedule_show_ratio':[], 'ratio_std':[]}\n",
    "    for user, show in tqdm(df[['user_id', 'tv_show_id']].values):\n",
    "        dict_df_features['scedule_show_ratio'] += [schedule_dict.get(show, 0)]\n",
    "        dict_df_features['mean_show_ratio'] += [show_ratio_mean_dict.get(show, -1)]\n",
    "        dict_df_features['median_show_ratio'] += [show_ratio_median_dict.get(show, -1)]\n",
    "        dict_df_features['cnt_show_all_normal'] += [cnt_show_ratio.get(show, -1)]\n",
    "        if user not in favorite_channel_dict:\n",
    "            dict_df_features['channel_ratio'] += [-1]\n",
    "        else:\n",
    "            dict_df_features['channel_ratio'] += [favorite_channel_dict[user].get(channel_show_dict[show], 0)]\n",
    "            \n",
    "        if user not in dict_ratio_features:\n",
    "            cnt += 1\n",
    "            dict_df_features['ratio_max'] += [-1]\n",
    "            dict_df_features['ratio_mean'] += [-1]\n",
    "            dict_df_features['ratio_median'] += [-1]\n",
    "            dict_df_features['ratio_min'] += [-1]\n",
    "            dict_df_features['ratio_std'] += [-1]\n",
    "            dict_df_features['cnt_show'] += [-1]\n",
    "            continue\n",
    "        if show not in dict_ratio_features[user]:\n",
    "            cnt_2 += 1\n",
    "            dict_df_features['ratio_max'] += [-1]\n",
    "            dict_df_features['ratio_mean'] += [-1]\n",
    "            dict_df_features['ratio_median'] += [-1]\n",
    "            dict_df_features['ratio_min'] += [-1]\n",
    "            dict_df_features['ratio_std'] += [-1]\n",
    "            dict_df_features['cnt_show'] += [-1]\n",
    "            continue\n",
    "        \n",
    "        dict_df_features['ratio_max'] += [np.max(dict_ratio_features[user][show])]\n",
    "        dict_df_features['ratio_std'] += [np.std(dict_ratio_features[user][show])]\n",
    "        dict_df_features['ratio_mean'] += [np.mean(dict_ratio_features[user][show])]\n",
    "        dict_df_features['ratio_median'] += [np.median(dict_ratio_features[user][show])]\n",
    "        dict_df_features['ratio_min'] += [np.min(dict_ratio_features[user][show])]\n",
    "        dict_df_features['cnt_show'] += [len(dict_ratio_features[user][show]) / (dict_user_show_counts[user] + 1)]\n",
    "    print(cnt, cnt_2)\n",
    "    return pd.concat([df, pd.DataFrame(dict_df_features)], axis = 1)"
   ]
  },
  {
   "cell_type": "code",
   "execution_count": 25,
   "metadata": {},
   "outputs": [
    {
     "data": {
      "application/vnd.jupyter.widget-view+json": {
       "model_id": "8cdb3a2a43ea43e9ae51a083cdf65f72",
       "version_major": 2,
       "version_minor": 0
      },
      "text/plain": [
       "HBox(children=(FloatProgress(value=0.0, max=1535484.0), HTML(value='')))"
      ]
     },
     "metadata": {},
     "output_type": "display_data"
    },
    {
     "name": "stdout",
     "output_type": "stream",
     "text": [
      "\n"
     ]
    },
    {
     "data": {
      "application/vnd.jupyter.widget-view+json": {
       "model_id": "2ac3b8ab2d924c2e9e1a13c224a381c1",
       "version_major": 2,
       "version_minor": 0
      },
      "text/plain": [
       "HBox(children=(FloatProgress(value=0.0, max=691185.0), HTML(value='')))"
      ]
     },
     "metadata": {},
     "output_type": "display_data"
    },
    {
     "name": "stdout",
     "output_type": "stream",
     "text": [
      "\n",
      "1906728 61494\n"
     ]
    },
    {
     "data": {
      "application/vnd.jupyter.widget-view+json": {
       "model_id": "3299a390d4ee47fdbcf271792f6d30a0",
       "version_major": 2,
       "version_minor": 0
      },
      "text/plain": [
       "HBox(children=(FloatProgress(value=0.0, max=2964713.0), HTML(value='')))"
      ]
     },
     "metadata": {},
     "output_type": "display_data"
    },
    {
     "name": "stdout",
     "output_type": "stream",
     "text": [
      "\n"
     ]
    },
    {
     "data": {
      "application/vnd.jupyter.widget-view+json": {
       "model_id": "0c97e11983d64e8096bfd1930f9a1b55",
       "version_major": 2,
       "version_minor": 0
      },
      "text/plain": [
       "HBox(children=(FloatProgress(value=0.0, max=483163.0), HTML(value='')))"
      ]
     },
     "metadata": {},
     "output_type": "display_data"
    },
    {
     "name": "stdout",
     "output_type": "stream",
     "text": [
      "\n",
      "3848927 15267\n"
     ]
    }
   ],
   "source": [
    "df = create_features(train, df, (date_list[-84:][0], date_list[-84:][-1]))\n",
    "df_test = create_features(data, df_test, (date_list[-84:][-1], date_list[-84:][-1] + np.timedelta64(365, 'D')))"
   ]
  },
  {
   "cell_type": "code",
   "execution_count": 26,
   "metadata": {},
   "outputs": [],
   "source": [
    "ltr = len(df)"
   ]
  },
  {
   "cell_type": "code",
   "execution_count": 27,
   "metadata": {},
   "outputs": [],
   "source": [
    "df = pd.concat([df, df_test], axis = 0).reset_index(drop = True)"
   ]
  },
  {
   "cell_type": "code",
   "execution_count": 28,
   "metadata": {},
   "outputs": [
    {
     "data": {
      "text/plain": [
       "0.0    675736\n",
       "1.0     15449\n",
       "Name: target, dtype: int64"
      ]
     },
     "execution_count": 28,
     "metadata": {},
     "output_type": "execute_result"
    }
   ],
   "source": [
    "df.target.value_counts()"
   ]
  },
  {
   "cell_type": "code",
   "execution_count": 29,
   "metadata": {},
   "outputs": [],
   "source": [
    "df['show_duraion_mean'] = df['tv_show_id'].map(\n",
    "    tv_schedule.groupby('tv_show_id')['duration'].mean().to_dict()).fillna(0)\n",
    "df['show_duraion_median'] = df['tv_show_id'].map(\n",
    "    tv_schedule.groupby('tv_show_id')['duration'].median().to_dict()).fillna(0)\n",
    "df['show_duraion_max'] = df['tv_show_id'].map(\n",
    "    tv_schedule.groupby('tv_show_id')['duration'].max().to_dict()).fillna(0)\n",
    "df['show_duraion_min'] = df['tv_show_id'].map(\n",
    "    tv_schedule.groupby('tv_show_id')['duration'].min().to_dict()).fillna(0)\n",
    "df['show_duraion_std'] = df['tv_show_id'].map(\n",
    "    tv_schedule.groupby('tv_show_id')['duration'].std().to_dict()).fillna(0)"
   ]
  },
  {
   "cell_type": "code",
   "execution_count": 31,
   "metadata": {},
   "outputs": [],
   "source": [
    "def standart_split(data, ltr):\n",
    "    split_list = []\n",
    "    kf = GroupKFold(n_splits = 10)\n",
    "    for train_index, test_index in kf.split(data.loc[:ltr-1, :], data.loc[:ltr-1, 'target'], data.loc[:ltr-1, 'user_id']):\n",
    "        split_list += [(train_index, test_index)]\n",
    "    return split_list\n",
    "split_list = standart_split(df, ltr)"
   ]
  },
  {
   "cell_type": "code",
   "execution_count": 32,
   "metadata": {},
   "outputs": [],
   "source": [
    "def lgb_train(data, target, ltr, split_list, param, v_e = 0, n_e = 20000, cat_col = None):\n",
    "    pred = pd.DataFrame()\n",
    "    pred_val = np.zeros(ltr)\n",
    "    fi = np.zeros(data.shape[1])\n",
    "    score = []\n",
    "    bst_list = []\n",
    "    pred_train = pd.DataFrame()\n",
    "    j = 0\n",
    "    target = target\n",
    "    for i , (train_index, test_index) in enumerate(split_list):\n",
    "        tr = lgb.Dataset(np.array(data)[train_index], np.array(target)[train_index])\n",
    "        te = lgb.Dataset(np.array(data)[test_index], np.array(target)[test_index], reference=tr)\n",
    "        evallist = [(tr, 'train'), (te, 'test')]\n",
    "        bst = lgb.train(param, tr, num_boost_round=n_e, \n",
    "                valid_sets = [tr, te], early_stopping_rounds=int(5 / param['learning_rate']), verbose_eval = v_e)\n",
    "#         return bst\n",
    "        pred[str(i)] = bst.predict(np.array(data)[ltr:, :])\n",
    "        pred_val[test_index] = bst.predict(np.array(data)[test_index]) \n",
    "        cur_score = roc_auc_score(np.array(target)[test_index], pred_val[test_index])\n",
    "        score += [cur_score]\n",
    "        bst_list += [bst]\n",
    "        fi += np.array(bst.feature_importance(importance_type = 'gain'))\n",
    "        print(i+1, np.mean(score))\n",
    "        print()\n",
    "        del tr, te\n",
    "    pred_train[str(j)] = pred_val\n",
    "    return bst_list, pred_train, pred, score, fi"
   ]
  },
  {
   "cell_type": "code",
   "execution_count": 45,
   "metadata": {},
   "outputs": [],
   "source": [
    "param_lgb = {\n",
    "    'bagging_fraction': 1,\n",
    "    'bagging_freq': 1,\n",
    "    'boost': 'gbdt',\n",
    "    'feature_fraction': 0.9,\n",
    "    'learning_rate': 0.05,\n",
    "    'metric':'auc',\n",
    "    'num_leaves': 8,\n",
    "#     'min_data_in_leaf':1,\n",
    "    'objective': 'binary',\n",
    "    'lambda_l1':5,\n",
    "    'verbose':-1\n",
    "    }\n",
    "    \n",
    "    "
   ]
  },
  {
   "cell_type": "code",
   "execution_count": 46,
   "metadata": {},
   "outputs": [],
   "source": [
    "train_cols = ['ratio_max', 'ratio_mean',\n",
    "       'ratio_median', 'ratio_min', 'cnt_show', 'show_duraion_mean',\n",
    "       'show_duraion_median', 'show_duraion_max', 'show_duraion_min', 'channel_ratio', 'scedule_show_ratio',\n",
    "             'show_duraion_std', 'ratio_std'] "
   ]
  },
  {
   "cell_type": "code",
   "execution_count": 47,
   "metadata": {},
   "outputs": [
    {
     "data": {
      "text/plain": [
       "[(16717.13015642017, 'ratio_median'),\n",
       " (21871.87955148518, 'ratio_min'),\n",
       " (33095.837028704584, 'show_duraion_max'),\n",
       " (35092.18068858236, 'ratio_mean'),\n",
       " (41273.551631361246, 'ratio_std'),\n",
       " (47891.97073931992, 'show_duraion_median'),\n",
       " (48659.27051529288, 'show_duraion_std'),\n",
       " (64045.320051796734, 'channel_ratio'),\n",
       " (68343.10505642742, 'show_duraion_min'),\n",
       " (206919.31691598892, 'ratio_max'),\n",
       " (756622.0571559891, 'show_duraion_mean'),\n",
       " (1040112.8389275968, 'scedule_show_ratio'),\n",
       " (1460015.025303021, 'cnt_show')]"
      ]
     },
     "execution_count": 47,
     "metadata": {},
     "output_type": "execute_result"
    }
   ],
   "source": [
    "sorted(zip(fi, train_cols))"
   ]
  },
  {
   "cell_type": "code",
   "execution_count": 48,
   "metadata": {},
   "outputs": [
    {
     "name": "stdout",
     "output_type": "stream",
     "text": [
      "Training until validation scores don't improve for 100 rounds\n",
      "[50]\ttraining's auc: 0.958769\tvalid_1's auc: 0.958712\n",
      "[100]\ttraining's auc: 0.961802\tvalid_1's auc: 0.960854\n",
      "[150]\ttraining's auc: 0.963297\tvalid_1's auc: 0.96215\n",
      "[200]\ttraining's auc: 0.964135\tvalid_1's auc: 0.96284\n",
      "[250]\ttraining's auc: 0.964788\tvalid_1's auc: 0.963265\n",
      "[300]\ttraining's auc: 0.96526\tvalid_1's auc: 0.963597\n",
      "[350]\ttraining's auc: 0.965659\tvalid_1's auc: 0.963771\n",
      "[400]\ttraining's auc: 0.966013\tvalid_1's auc: 0.963953\n",
      "[450]\ttraining's auc: 0.966299\tvalid_1's auc: 0.964098\n",
      "[500]\ttraining's auc: 0.96654\tvalid_1's auc: 0.964234\n",
      "[550]\ttraining's auc: 0.966765\tvalid_1's auc: 0.964343\n",
      "[600]\ttraining's auc: 0.967007\tvalid_1's auc: 0.964357\n",
      "[650]\ttraining's auc: 0.967225\tvalid_1's auc: 0.964504\n",
      "[700]\ttraining's auc: 0.967409\tvalid_1's auc: 0.964509\n",
      "[750]\ttraining's auc: 0.967575\tvalid_1's auc: 0.964534\n",
      "[800]\ttraining's auc: 0.967806\tvalid_1's auc: 0.964599\n",
      "[850]\ttraining's auc: 0.967982\tvalid_1's auc: 0.964603\n",
      "[900]\ttraining's auc: 0.968115\tvalid_1's auc: 0.964644\n",
      "[950]\ttraining's auc: 0.968268\tvalid_1's auc: 0.964649\n",
      "[1000]\ttraining's auc: 0.968401\tvalid_1's auc: 0.964677\n",
      "[1050]\ttraining's auc: 0.96856\tvalid_1's auc: 0.9647\n",
      "[1100]\ttraining's auc: 0.968708\tvalid_1's auc: 0.964711\n",
      "[1150]\ttraining's auc: 0.968819\tvalid_1's auc: 0.964664\n",
      "Early stopping, best iteration is:\n",
      "[1099]\ttraining's auc: 0.968702\tvalid_1's auc: 0.964715\n",
      "1 0.9647145306489441\n",
      "\n",
      "Training until validation scores don't improve for 100 rounds\n",
      "[50]\ttraining's auc: 0.958821\tvalid_1's auc: 0.957522\n",
      "[100]\ttraining's auc: 0.961802\tvalid_1's auc: 0.96063\n",
      "[150]\ttraining's auc: 0.963368\tvalid_1's auc: 0.962015\n",
      "[200]\ttraining's auc: 0.96425\tvalid_1's auc: 0.962673\n",
      "[250]\ttraining's auc: 0.964875\tvalid_1's auc: 0.963145\n",
      "[300]\ttraining's auc: 0.965315\tvalid_1's auc: 0.963439\n",
      "[350]\ttraining's auc: 0.965726\tvalid_1's auc: 0.963672\n",
      "[400]\ttraining's auc: 0.966034\tvalid_1's auc: 0.963848\n",
      "[450]\ttraining's auc: 0.966301\tvalid_1's auc: 0.963994\n",
      "[500]\ttraining's auc: 0.966582\tvalid_1's auc: 0.964079\n",
      "[550]\ttraining's auc: 0.966856\tvalid_1's auc: 0.964196\n",
      "[600]\ttraining's auc: 0.967058\tvalid_1's auc: 0.964223\n",
      "[650]\ttraining's auc: 0.967237\tvalid_1's auc: 0.964265\n",
      "[700]\ttraining's auc: 0.967435\tvalid_1's auc: 0.964336\n",
      "[750]\ttraining's auc: 0.967591\tvalid_1's auc: 0.964384\n",
      "[800]\ttraining's auc: 0.96776\tvalid_1's auc: 0.964476\n",
      "[850]\ttraining's auc: 0.967872\tvalid_1's auc: 0.964506\n",
      "[900]\ttraining's auc: 0.968052\tvalid_1's auc: 0.964558\n",
      "[950]\ttraining's auc: 0.968179\tvalid_1's auc: 0.964572\n",
      "[1000]\ttraining's auc: 0.968339\tvalid_1's auc: 0.964618\n",
      "[1050]\ttraining's auc: 0.968462\tvalid_1's auc: 0.96462\n",
      "[1100]\ttraining's auc: 0.968608\tvalid_1's auc: 0.96462\n",
      "[1150]\ttraining's auc: 0.968756\tvalid_1's auc: 0.964647\n",
      "[1200]\ttraining's auc: 0.968901\tvalid_1's auc: 0.964645\n",
      "[1250]\ttraining's auc: 0.969034\tvalid_1's auc: 0.964643\n",
      "[1300]\ttraining's auc: 0.969156\tvalid_1's auc: 0.964675\n",
      "[1350]\ttraining's auc: 0.969293\tvalid_1's auc: 0.964685\n",
      "[1400]\ttraining's auc: 0.969451\tvalid_1's auc: 0.964691\n",
      "[1450]\ttraining's auc: 0.969563\tvalid_1's auc: 0.964665\n",
      "Early stopping, best iteration is:\n",
      "[1376]\ttraining's auc: 0.969368\tvalid_1's auc: 0.964714\n",
      "2 0.9647142215919824\n",
      "\n",
      "Training until validation scores don't improve for 100 rounds\n",
      "[50]\ttraining's auc: 0.958614\tvalid_1's auc: 0.960149\n",
      "[100]\ttraining's auc: 0.961818\tvalid_1's auc: 0.9625\n",
      "[150]\ttraining's auc: 0.963207\tvalid_1's auc: 0.963729\n",
      "[200]\ttraining's auc: 0.96407\tvalid_1's auc: 0.964288\n",
      "[250]\ttraining's auc: 0.964585\tvalid_1's auc: 0.964541\n",
      "[300]\ttraining's auc: 0.965063\tvalid_1's auc: 0.964879\n",
      "[350]\ttraining's auc: 0.965568\tvalid_1's auc: 0.965279\n",
      "[400]\ttraining's auc: 0.965861\tvalid_1's auc: 0.965413\n",
      "[450]\ttraining's auc: 0.966134\tvalid_1's auc: 0.965612\n",
      "[500]\ttraining's auc: 0.966353\tvalid_1's auc: 0.9657\n",
      "[550]\ttraining's auc: 0.966582\tvalid_1's auc: 0.965804\n",
      "[600]\ttraining's auc: 0.966785\tvalid_1's auc: 0.965923\n",
      "[650]\ttraining's auc: 0.967023\tvalid_1's auc: 0.966057\n",
      "[700]\ttraining's auc: 0.967223\tvalid_1's auc: 0.966169\n",
      "[750]\ttraining's auc: 0.96742\tvalid_1's auc: 0.966246\n",
      "[800]\ttraining's auc: 0.967599\tvalid_1's auc: 0.966242\n",
      "[850]\ttraining's auc: 0.96783\tvalid_1's auc: 0.966274\n",
      "[900]\ttraining's auc: 0.967987\tvalid_1's auc: 0.966295\n",
      "[950]\ttraining's auc: 0.968131\tvalid_1's auc: 0.966341\n",
      "[1000]\ttraining's auc: 0.96827\tvalid_1's auc: 0.966357\n",
      "[1050]\ttraining's auc: 0.968424\tvalid_1's auc: 0.966368\n",
      "[1100]\ttraining's auc: 0.968554\tvalid_1's auc: 0.966378\n",
      "[1150]\ttraining's auc: 0.968711\tvalid_1's auc: 0.966361\n",
      "Early stopping, best iteration is:\n",
      "[1085]\ttraining's auc: 0.968526\tvalid_1's auc: 0.966391\n",
      "3 0.9652729890389192\n",
      "\n",
      "Training until validation scores don't improve for 100 rounds\n",
      "[50]\ttraining's auc: 0.958989\tvalid_1's auc: 0.955068\n",
      "[100]\ttraining's auc: 0.962113\tvalid_1's auc: 0.958571\n",
      "[150]\ttraining's auc: 0.963541\tvalid_1's auc: 0.960063\n",
      "[200]\ttraining's auc: 0.96439\tvalid_1's auc: 0.960975\n",
      "[250]\ttraining's auc: 0.965015\tvalid_1's auc: 0.961505\n",
      "[300]\ttraining's auc: 0.965469\tvalid_1's auc: 0.961851\n",
      "[350]\ttraining's auc: 0.96582\tvalid_1's auc: 0.962085\n",
      "[400]\ttraining's auc: 0.966203\tvalid_1's auc: 0.962279\n",
      "[450]\ttraining's auc: 0.966515\tvalid_1's auc: 0.962504\n",
      "[500]\ttraining's auc: 0.966764\tvalid_1's auc: 0.962638\n",
      "[550]\ttraining's auc: 0.966991\tvalid_1's auc: 0.962756\n",
      "[600]\ttraining's auc: 0.96724\tvalid_1's auc: 0.962851\n",
      "[650]\ttraining's auc: 0.967442\tvalid_1's auc: 0.962902\n",
      "[700]\ttraining's auc: 0.967599\tvalid_1's auc: 0.962975\n",
      "[750]\ttraining's auc: 0.967745\tvalid_1's auc: 0.963017\n",
      "[800]\ttraining's auc: 0.967892\tvalid_1's auc: 0.963059\n",
      "[850]\ttraining's auc: 0.968019\tvalid_1's auc: 0.963074\n",
      "[900]\ttraining's auc: 0.968168\tvalid_1's auc: 0.963099\n",
      "[950]\ttraining's auc: 0.968312\tvalid_1's auc: 0.963105\n",
      "[1000]\ttraining's auc: 0.968423\tvalid_1's auc: 0.963116\n",
      "[1050]\ttraining's auc: 0.96856\tvalid_1's auc: 0.963202\n",
      "[1100]\ttraining's auc: 0.968719\tvalid_1's auc: 0.963245\n",
      "[1150]\ttraining's auc: 0.968831\tvalid_1's auc: 0.963258\n",
      "[1200]\ttraining's auc: 0.968992\tvalid_1's auc: 0.96327\n",
      "[1250]\ttraining's auc: 0.9691\tvalid_1's auc: 0.963263\n",
      "[1300]\ttraining's auc: 0.969238\tvalid_1's auc: 0.963325\n",
      "[1350]\ttraining's auc: 0.969355\tvalid_1's auc: 0.963297\n",
      "[1400]\ttraining's auc: 0.969464\tvalid_1's auc: 0.963309\n",
      "Early stopping, best iteration is:\n",
      "[1306]\ttraining's auc: 0.969252\tvalid_1's auc: 0.963329\n",
      "4 0.9647869482797702\n",
      "\n",
      "Training until validation scores don't improve for 100 rounds\n",
      "[50]\ttraining's auc: 0.958958\tvalid_1's auc: 0.956016\n",
      "[100]\ttraining's auc: 0.962143\tvalid_1's auc: 0.959038\n",
      "[150]\ttraining's auc: 0.963642\tvalid_1's auc: 0.959899\n",
      "[200]\ttraining's auc: 0.964596\tvalid_1's auc: 0.960537\n",
      "[250]\ttraining's auc: 0.965164\tvalid_1's auc: 0.960824\n",
      "[300]\ttraining's auc: 0.965607\tvalid_1's auc: 0.961063\n",
      "[350]\ttraining's auc: 0.965979\tvalid_1's auc: 0.961309\n",
      "[400]\ttraining's auc: 0.966318\tvalid_1's auc: 0.961428\n",
      "[450]\ttraining's auc: 0.966595\tvalid_1's auc: 0.961511\n",
      "[500]\ttraining's auc: 0.966831\tvalid_1's auc: 0.961597\n",
      "[550]\ttraining's auc: 0.967021\tvalid_1's auc: 0.96166\n",
      "[600]\ttraining's auc: 0.967224\tvalid_1's auc: 0.961786\n",
      "[650]\ttraining's auc: 0.967463\tvalid_1's auc: 0.961877\n",
      "[700]\ttraining's auc: 0.967604\tvalid_1's auc: 0.961911\n",
      "[750]\ttraining's auc: 0.96776\tvalid_1's auc: 0.961933\n",
      "[800]\ttraining's auc: 0.967945\tvalid_1's auc: 0.962002\n",
      "[850]\ttraining's auc: 0.968095\tvalid_1's auc: 0.962049\n",
      "[900]\ttraining's auc: 0.968249\tvalid_1's auc: 0.962028\n",
      "[950]\ttraining's auc: 0.968412\tvalid_1's auc: 0.962082\n",
      "[1000]\ttraining's auc: 0.968563\tvalid_1's auc: 0.962141\n",
      "[1050]\ttraining's auc: 0.968722\tvalid_1's auc: 0.962164\n",
      "[1100]\ttraining's auc: 0.968873\tvalid_1's auc: 0.962198\n",
      "[1150]\ttraining's auc: 0.969023\tvalid_1's auc: 0.962183\n",
      "[1200]\ttraining's auc: 0.969176\tvalid_1's auc: 0.962192\n",
      "Early stopping, best iteration is:\n",
      "[1124]\ttraining's auc: 0.968941\tvalid_1's auc: 0.962208\n",
      "5 0.9642712461244853\n",
      "\n",
      "Training until validation scores don't improve for 100 rounds\n",
      "[50]\ttraining's auc: 0.958992\tvalid_1's auc: 0.956122\n",
      "[100]\ttraining's auc: 0.961917\tvalid_1's auc: 0.959214\n",
      "[150]\ttraining's auc: 0.963467\tvalid_1's auc: 0.960871\n",
      "[200]\ttraining's auc: 0.964362\tvalid_1's auc: 0.961709\n",
      "[250]\ttraining's auc: 0.964948\tvalid_1's auc: 0.962197\n"
     ]
    },
    {
     "name": "stdout",
     "output_type": "stream",
     "text": [
      "[300]\ttraining's auc: 0.965416\tvalid_1's auc: 0.962544\n",
      "[350]\ttraining's auc: 0.965771\tvalid_1's auc: 0.962764\n",
      "[400]\ttraining's auc: 0.966122\tvalid_1's auc: 0.963005\n",
      "[450]\ttraining's auc: 0.966422\tvalid_1's auc: 0.963164\n",
      "[500]\ttraining's auc: 0.966693\tvalid_1's auc: 0.963362\n",
      "[550]\ttraining's auc: 0.966914\tvalid_1's auc: 0.963433\n",
      "[600]\ttraining's auc: 0.96717\tvalid_1's auc: 0.963519\n",
      "[650]\ttraining's auc: 0.967346\tvalid_1's auc: 0.96354\n",
      "[700]\ttraining's auc: 0.967515\tvalid_1's auc: 0.963627\n",
      "[750]\ttraining's auc: 0.967662\tvalid_1's auc: 0.963637\n",
      "[800]\ttraining's auc: 0.967837\tvalid_1's auc: 0.963646\n",
      "[850]\ttraining's auc: 0.967994\tvalid_1's auc: 0.96367\n",
      "[900]\ttraining's auc: 0.968148\tvalid_1's auc: 0.963688\n",
      "[950]\ttraining's auc: 0.96831\tvalid_1's auc: 0.963718\n",
      "[1000]\ttraining's auc: 0.968452\tvalid_1's auc: 0.963706\n",
      "[1050]\ttraining's auc: 0.968608\tvalid_1's auc: 0.963727\n",
      "[1100]\ttraining's auc: 0.968742\tvalid_1's auc: 0.963749\n",
      "[1150]\ttraining's auc: 0.968893\tvalid_1's auc: 0.963778\n",
      "[1200]\ttraining's auc: 0.96906\tvalid_1's auc: 0.963771\n",
      "Early stopping, best iteration is:\n",
      "[1128]\ttraining's auc: 0.968833\tvalid_1's auc: 0.963784\n",
      "6 0.964190054427787\n",
      "\n",
      "Training until validation scores don't improve for 100 rounds\n",
      "[50]\ttraining's auc: 0.958674\tvalid_1's auc: 0.957405\n",
      "[100]\ttraining's auc: 0.961799\tvalid_1's auc: 0.960499\n",
      "[150]\ttraining's auc: 0.963366\tvalid_1's auc: 0.961733\n",
      "[200]\ttraining's auc: 0.964234\tvalid_1's auc: 0.962358\n",
      "[250]\ttraining's auc: 0.964891\tvalid_1's auc: 0.962866\n",
      "[300]\ttraining's auc: 0.965307\tvalid_1's auc: 0.963162\n",
      "[350]\ttraining's auc: 0.965711\tvalid_1's auc: 0.963427\n",
      "[400]\ttraining's auc: 0.966082\tvalid_1's auc: 0.963701\n",
      "[450]\ttraining's auc: 0.966329\tvalid_1's auc: 0.963895\n",
      "[500]\ttraining's auc: 0.966636\tvalid_1's auc: 0.964071\n",
      "[550]\ttraining's auc: 0.966839\tvalid_1's auc: 0.964139\n",
      "[600]\ttraining's auc: 0.967074\tvalid_1's auc: 0.964291\n",
      "[650]\ttraining's auc: 0.967267\tvalid_1's auc: 0.96431\n",
      "[700]\ttraining's auc: 0.96748\tvalid_1's auc: 0.96435\n",
      "[750]\ttraining's auc: 0.967667\tvalid_1's auc: 0.964403\n",
      "[800]\ttraining's auc: 0.967835\tvalid_1's auc: 0.964464\n",
      "[850]\ttraining's auc: 0.967995\tvalid_1's auc: 0.964498\n",
      "[900]\ttraining's auc: 0.968146\tvalid_1's auc: 0.964538\n",
      "[950]\ttraining's auc: 0.968303\tvalid_1's auc: 0.964582\n",
      "[1000]\ttraining's auc: 0.968493\tvalid_1's auc: 0.964592\n",
      "[1050]\ttraining's auc: 0.968654\tvalid_1's auc: 0.964626\n",
      "[1100]\ttraining's auc: 0.968808\tvalid_1's auc: 0.964624\n",
      "[1150]\ttraining's auc: 0.968942\tvalid_1's auc: 0.964636\n",
      "[1200]\ttraining's auc: 0.969091\tvalid_1's auc: 0.964624\n",
      "[1250]\ttraining's auc: 0.969212\tvalid_1's auc: 0.964628\n",
      "Early stopping, best iteration is:\n",
      "[1176]\ttraining's auc: 0.96904\tvalid_1's auc: 0.964653\n",
      "7 0.9642562031162762\n",
      "\n",
      "Training until validation scores don't improve for 100 rounds\n",
      "[50]\ttraining's auc: 0.95812\tvalid_1's auc: 0.963306\n",
      "[100]\ttraining's auc: 0.961414\tvalid_1's auc: 0.966238\n",
      "[150]\ttraining's auc: 0.962803\tvalid_1's auc: 0.967157\n",
      "[200]\ttraining's auc: 0.963675\tvalid_1's auc: 0.967771\n",
      "[250]\ttraining's auc: 0.964319\tvalid_1's auc: 0.968141\n",
      "[300]\ttraining's auc: 0.964862\tvalid_1's auc: 0.968415\n",
      "[350]\ttraining's auc: 0.965283\tvalid_1's auc: 0.968581\n",
      "[400]\ttraining's auc: 0.965592\tvalid_1's auc: 0.968739\n",
      "[450]\ttraining's auc: 0.965899\tvalid_1's auc: 0.968868\n",
      "[500]\ttraining's auc: 0.966151\tvalid_1's auc: 0.968956\n",
      "[550]\ttraining's auc: 0.96644\tvalid_1's auc: 0.968982\n",
      "[600]\ttraining's auc: 0.966723\tvalid_1's auc: 0.96908\n",
      "[650]\ttraining's auc: 0.966929\tvalid_1's auc: 0.969165\n",
      "[700]\ttraining's auc: 0.967106\tvalid_1's auc: 0.969175\n",
      "[750]\ttraining's auc: 0.967254\tvalid_1's auc: 0.969184\n",
      "[800]\ttraining's auc: 0.967438\tvalid_1's auc: 0.969177\n",
      "[850]\ttraining's auc: 0.967581\tvalid_1's auc: 0.969206\n",
      "[900]\ttraining's auc: 0.967737\tvalid_1's auc: 0.969211\n",
      "[950]\ttraining's auc: 0.967872\tvalid_1's auc: 0.969198\n",
      "[1000]\ttraining's auc: 0.968013\tvalid_1's auc: 0.969222\n",
      "[1050]\ttraining's auc: 0.968162\tvalid_1's auc: 0.969254\n",
      "[1100]\ttraining's auc: 0.968299\tvalid_1's auc: 0.969261\n",
      "[1150]\ttraining's auc: 0.968448\tvalid_1's auc: 0.969277\n",
      "[1200]\ttraining's auc: 0.96855\tvalid_1's auc: 0.969273\n",
      "[1250]\ttraining's auc: 0.96867\tvalid_1's auc: 0.969254\n",
      "Early stopping, best iteration is:\n",
      "[1192]\ttraining's auc: 0.968533\tvalid_1's auc: 0.969285\n",
      "8 0.9648848567481192\n",
      "\n",
      "Training until validation scores don't improve for 100 rounds\n",
      "[50]\ttraining's auc: 0.958744\tvalid_1's auc: 0.9575\n",
      "[100]\ttraining's auc: 0.961975\tvalid_1's auc: 0.960793\n",
      "[150]\ttraining's auc: 0.963387\tvalid_1's auc: 0.961975\n",
      "[200]\ttraining's auc: 0.964182\tvalid_1's auc: 0.962639\n",
      "[250]\ttraining's auc: 0.964772\tvalid_1's auc: 0.963075\n",
      "[300]\ttraining's auc: 0.965247\tvalid_1's auc: 0.963362\n",
      "[350]\ttraining's auc: 0.965636\tvalid_1's auc: 0.963616\n",
      "[400]\ttraining's auc: 0.965975\tvalid_1's auc: 0.96382\n",
      "[450]\ttraining's auc: 0.966258\tvalid_1's auc: 0.964015\n",
      "[500]\ttraining's auc: 0.966551\tvalid_1's auc: 0.964165\n",
      "[550]\ttraining's auc: 0.966767\tvalid_1's auc: 0.964265\n",
      "[600]\ttraining's auc: 0.967003\tvalid_1's auc: 0.964337\n",
      "[650]\ttraining's auc: 0.967233\tvalid_1's auc: 0.964402\n",
      "[700]\ttraining's auc: 0.967409\tvalid_1's auc: 0.964454\n",
      "[750]\ttraining's auc: 0.967568\tvalid_1's auc: 0.964468\n",
      "[800]\ttraining's auc: 0.96773\tvalid_1's auc: 0.964531\n",
      "[850]\ttraining's auc: 0.967895\tvalid_1's auc: 0.964557\n",
      "[900]\ttraining's auc: 0.968045\tvalid_1's auc: 0.964592\n",
      "[950]\ttraining's auc: 0.96819\tvalid_1's auc: 0.964589\n",
      "[1000]\ttraining's auc: 0.968351\tvalid_1's auc: 0.964609\n",
      "[1050]\ttraining's auc: 0.968523\tvalid_1's auc: 0.964584\n",
      "[1100]\ttraining's auc: 0.968707\tvalid_1's auc: 0.964619\n",
      "Early stopping, best iteration is:\n",
      "[1012]\ttraining's auc: 0.968379\tvalid_1's auc: 0.964634\n",
      "9 0.9648569377372804\n",
      "\n",
      "Training until validation scores don't improve for 100 rounds\n",
      "[50]\ttraining's auc: 0.95858\tvalid_1's auc: 0.9585\n",
      "[100]\ttraining's auc: 0.961634\tvalid_1's auc: 0.961386\n",
      "[150]\ttraining's auc: 0.963193\tvalid_1's auc: 0.962903\n",
      "[200]\ttraining's auc: 0.96408\tvalid_1's auc: 0.963608\n",
      "[250]\ttraining's auc: 0.964717\tvalid_1's auc: 0.964091\n",
      "[300]\ttraining's auc: 0.96525\tvalid_1's auc: 0.964475\n",
      "[350]\ttraining's auc: 0.965647\tvalid_1's auc: 0.964718\n",
      "[400]\ttraining's auc: 0.965959\tvalid_1's auc: 0.964894\n",
      "[450]\ttraining's auc: 0.966257\tvalid_1's auc: 0.96503\n",
      "[500]\ttraining's auc: 0.96653\tvalid_1's auc: 0.965139\n",
      "[550]\ttraining's auc: 0.96674\tvalid_1's auc: 0.965199\n",
      "[600]\ttraining's auc: 0.966954\tvalid_1's auc: 0.965254\n",
      "[650]\ttraining's auc: 0.967163\tvalid_1's auc: 0.965309\n",
      "[700]\ttraining's auc: 0.967387\tvalid_1's auc: 0.965374\n",
      "[750]\ttraining's auc: 0.967562\tvalid_1's auc: 0.965384\n",
      "[800]\ttraining's auc: 0.967765\tvalid_1's auc: 0.9654\n",
      "[850]\ttraining's auc: 0.967957\tvalid_1's auc: 0.965406\n",
      "[900]\ttraining's auc: 0.968096\tvalid_1's auc: 0.965452\n",
      "[950]\ttraining's auc: 0.968235\tvalid_1's auc: 0.9655\n",
      "[1000]\ttraining's auc: 0.968381\tvalid_1's auc: 0.965534\n",
      "[1050]\ttraining's auc: 0.968525\tvalid_1's auc: 0.965557\n",
      "[1100]\ttraining's auc: 0.968683\tvalid_1's auc: 0.965594\n",
      "[1150]\ttraining's auc: 0.968798\tvalid_1's auc: 0.965607\n",
      "[1200]\ttraining's auc: 0.968936\tvalid_1's auc: 0.965605\n",
      "[1250]\ttraining's auc: 0.969081\tvalid_1's auc: 0.965624\n",
      "[1300]\ttraining's auc: 0.969202\tvalid_1's auc: 0.965617\n",
      "[1350]\ttraining's auc: 0.969336\tvalid_1's auc: 0.965625\n",
      "[1400]\ttraining's auc: 0.969467\tvalid_1's auc: 0.965601\n",
      "Early stopping, best iteration is:\n",
      "[1332]\ttraining's auc: 0.969289\tvalid_1's auc: 0.965646\n",
      "10 0.9649358540012847\n",
      "\n"
     ]
    }
   ],
   "source": [
    "bst_list, pred_train, pred, score, fi = lgb_train(df[train_cols], df['target'], ltr, split_list, param_lgb, 50)"
   ]
  },
  {
   "cell_type": "code",
   "execution_count": null,
   "metadata": {},
   "outputs": [],
   "source": [
    "5 0.9615233922731707\n",
    "0.25372059529524726"
   ]
  },
  {
   "cell_type": "code",
   "execution_count": 49,
   "metadata": {},
   "outputs": [],
   "source": [
    "train_data = df.loc[:ltr-1, :].reset_index(drop = True)\n",
    "\n",
    "train_data['pred'] = pred_train['0']"
   ]
  },
  {
   "cell_type": "code",
   "execution_count": 50,
   "metadata": {},
   "outputs": [],
   "source": [
    "pred_dict = train_data.sort_values('pred', ascending = False).groupby('user_id')['tv_show_id'].apply(\n",
    "    lambda x: list(x)[:5]).to_dict()"
   ]
  },
  {
   "cell_type": "code",
   "execution_count": 51,
   "metadata": {},
   "outputs": [],
   "source": [
    "valid['pred'] = valid['user'].map(pred_dict)"
   ]
  },
  {
   "cell_type": "code",
   "execution_count": 52,
   "metadata": {},
   "outputs": [],
   "source": [
    "score_list = []\n",
    "for x,y in valid[['target_shows', 'pred']].values:\n",
    "    score = map_per_set(x, [y] * 5)\n",
    "    score_list += [score]"
   ]
  },
  {
   "cell_type": "code",
   "execution_count": 53,
   "metadata": {},
   "outputs": [
    {
     "data": {
      "text/plain": [
       "0.25776684269483113"
      ]
     },
     "execution_count": 53,
     "metadata": {},
     "output_type": "execute_result"
    }
   ],
   "source": [
    "np.mean(score_list)"
   ]
  },
  {
   "cell_type": "code",
   "execution_count": 58,
   "metadata": {},
   "outputs": [],
   "source": [
    "test = df.loc[ltr:, :].reset_index(drop = True)\n",
    "test['pred'] = pred.mean(axis = 1).values\n",
    "pred_test_dict = test.sort_values('pred', ascending = False).groupby('user_id')['tv_show_id'].apply(\n",
    "    lambda x: ' '.join([str(x) for x in list(x)[:5]])).to_dict()"
   ]
  },
  {
   "cell_type": "code",
   "execution_count": 59,
   "metadata": {},
   "outputs": [],
   "source": [
    "subm.tv_show_id = subm.user_id.map(pred_test_dict)"
   ]
  },
  {
   "cell_type": "code",
   "execution_count": 60,
   "metadata": {},
   "outputs": [],
   "source": [
    "subm.to_csv('loh_lohovich_2.csv', index = None)"
   ]
  },
  {
   "cell_type": "code",
   "execution_count": 61,
   "metadata": {},
   "outputs": [
    {
     "data": {
      "text/html": [
       "<div>\n",
       "<style scoped>\n",
       "    .dataframe tbody tr th:only-of-type {\n",
       "        vertical-align: middle;\n",
       "    }\n",
       "\n",
       "    .dataframe tbody tr th {\n",
       "        vertical-align: top;\n",
       "    }\n",
       "\n",
       "    .dataframe thead th {\n",
       "        text-align: right;\n",
       "    }\n",
       "</style>\n",
       "<table border=\"1\" class=\"dataframe\">\n",
       "  <thead>\n",
       "    <tr style=\"text-align: right;\">\n",
       "      <th></th>\n",
       "      <th>user_id</th>\n",
       "      <th>tv_show_id</th>\n",
       "    </tr>\n",
       "  </thead>\n",
       "  <tbody>\n",
       "    <tr>\n",
       "      <th>0</th>\n",
       "      <td>8377619604347126107</td>\n",
       "      <td>2400480 240081 2400508 20088 12002955</td>\n",
       "    </tr>\n",
       "    <tr>\n",
       "      <th>1</th>\n",
       "      <td>8381667675275833309</td>\n",
       "      <td>2400480 240081 12001682 12002856 12002355</td>\n",
       "    </tr>\n",
       "    <tr>\n",
       "      <th>2</th>\n",
       "      <td>8387147770138767246</td>\n",
       "      <td>12001682 12002856 12002955 12002355 12001732</td>\n",
       "    </tr>\n",
       "    <tr>\n",
       "      <th>3</th>\n",
       "      <td>8397181578236218580</td>\n",
       "      <td>2400480 20088 240081 2400467 6700482</td>\n",
       "    </tr>\n",
       "    <tr>\n",
       "      <th>4</th>\n",
       "      <td>8404698046253197367</td>\n",
       "      <td>2400480 240081 20088 12001682 6700482</td>\n",
       "    </tr>\n",
       "    <tr>\n",
       "      <th>...</th>\n",
       "      <td>...</td>\n",
       "      <td>...</td>\n",
       "    </tr>\n",
       "    <tr>\n",
       "      <th>1255</th>\n",
       "      <td>10876606683805171865</td>\n",
       "      <td>2400480 20088 240081 12001682 12001712</td>\n",
       "    </tr>\n",
       "    <tr>\n",
       "      <th>1256</th>\n",
       "      <td>10886096340955133676</td>\n",
       "      <td>12001682 12002856 12001734 2400480 10001514</td>\n",
       "    </tr>\n",
       "    <tr>\n",
       "      <th>1257</th>\n",
       "      <td>10902911550446151928</td>\n",
       "      <td>240081 12001682 2400480 12002856 12001734</td>\n",
       "    </tr>\n",
       "    <tr>\n",
       "      <th>1258</th>\n",
       "      <td>10904697592493678571</td>\n",
       "      <td>12001682 240081 2400480 12001734 12002856</td>\n",
       "    </tr>\n",
       "    <tr>\n",
       "      <th>1259</th>\n",
       "      <td>10906529691540756480</td>\n",
       "      <td>2400480 2400467 20088 2400508 5900319</td>\n",
       "    </tr>\n",
       "  </tbody>\n",
       "</table>\n",
       "<p>1260 rows × 2 columns</p>\n",
       "</div>"
      ],
      "text/plain": [
       "                   user_id                                    tv_show_id\n",
       "0      8377619604347126107         2400480 240081 2400508 20088 12002955\n",
       "1      8381667675275833309     2400480 240081 12001682 12002856 12002355\n",
       "2      8387147770138767246  12001682 12002856 12002955 12002355 12001732\n",
       "3      8397181578236218580          2400480 20088 240081 2400467 6700482\n",
       "4      8404698046253197367         2400480 240081 20088 12001682 6700482\n",
       "...                    ...                                           ...\n",
       "1255  10876606683805171865        2400480 20088 240081 12001682 12001712\n",
       "1256  10886096340955133676   12001682 12002856 12001734 2400480 10001514\n",
       "1257  10902911550446151928     240081 12001682 2400480 12002856 12001734\n",
       "1258  10904697592493678571     12001682 240081 2400480 12001734 12002856\n",
       "1259  10906529691540756480         2400480 2400467 20088 2400508 5900319\n",
       "\n",
       "[1260 rows x 2 columns]"
      ]
     },
     "execution_count": 61,
     "metadata": {},
     "output_type": "execute_result"
    }
   ],
   "source": [
    "subm"
   ]
  },
  {
   "cell_type": "code",
   "execution_count": null,
   "metadata": {},
   "outputs": [],
   "source": [
    "0.22139062249959993"
   ]
  },
  {
   "cell_type": "code",
   "execution_count": null,
   "metadata": {},
   "outputs": [],
   "source": [
    "user_index_dict = data.groupby('user_id').apply(lambda x: x.index).to_dict()"
   ]
  },
  {
   "cell_type": "code",
   "execution_count": null,
   "metadata": {},
   "outputs": [],
   "source": [
    "all_users_shows = []\n",
    "for show_list, ratio_list in tqdm(data[['show_list', 'duration_ratio']].values):\n",
    "    for i in range(len(show_list)):\n",
    "        if ratio_list[i] > 0.8:\n",
    "            all_users_shows += [show_list[i]]\n",
    "all_users_shows = list(pd.Series(all_users_shows).value_counts().index)"
   ]
  },
  {
   "cell_type": "code",
   "execution_count": null,
   "metadata": {},
   "outputs": [],
   "source": [
    "set_last_shows = set(tv_schedule[tv_schedule.start_time > pd.to_datetime('2020-07-27', \n",
    "                                                                         format = '%Y-%m-%d')].tv_show_id.unique())"
   ]
  },
  {
   "cell_type": "code",
   "execution_count": null,
   "metadata": {},
   "outputs": [],
   "source": [
    "answer_list = []\n",
    "\n",
    "for user in tqdm(subm.user_id.values):\n",
    "    answer = []\n",
    "    if not user in user_index_dict:\n",
    "        for x in all_users_shows:\n",
    "            if (x not in answer) and (x in set_last_shows):\n",
    "                answer += [x]\n",
    "                if len(answer) == 5:\n",
    "                    break\n",
    "        answer_list += [' '.join([str(x) for x in answer])]\n",
    "        continue\n",
    "    cur_data = data.loc[user_index_dict[user], :]\n",
    "    user_good_shows = []\n",
    "    for show_list, ratio_list in cur_data[['show_list', 'duration_ratio']].values:\n",
    "        for i in range(len(show_list)):\n",
    "            if ratio_list[i] > 0.8:\n",
    "                user_good_shows += [show_list[i]]\n",
    "    for x in pd.Series(user_good_shows).value_counts().index:\n",
    "        if (x not in answer) and (x in set_last_shows):\n",
    "            answer += [x]\n",
    "            if len(answer) == 5:\n",
    "                break\n",
    "    if len(answer) == 5:\n",
    "        answer_list += [' '.join([str(x) for x in answer])]\n",
    "        continue\n",
    "    for x in all_users_shows:\n",
    "        if (x not in answer) and (x in set_last_shows):\n",
    "            answer += [x]\n",
    "            if len(answer) == 5:\n",
    "                break\n",
    "    if len(answer) == 5:\n",
    "        answer_list += [' '.join([str(x) for x in answer])]\n",
    "        continue"
   ]
  },
  {
   "cell_type": "code",
   "execution_count": null,
   "metadata": {},
   "outputs": [],
   "source": [
    "subm['tv_show_id'] = answer_list"
   ]
  },
  {
   "cell_type": "code",
   "execution_count": null,
   "metadata": {},
   "outputs": [],
   "source": [
    "subm.to_csv('therealroman_2.csv', index = None)"
   ]
  },
  {
   "cell_type": "code",
   "execution_count": null,
   "metadata": {},
   "outputs": [],
   "source": [
    "subm"
   ]
  },
  {
   "cell_type": "code",
   "execution_count": null,
   "metadata": {},
   "outputs": [],
   "source": [
    "gg = pd.read_csv('therealroman.csv')"
   ]
  },
  {
   "cell_type": "code",
   "execution_count": null,
   "metadata": {},
   "outputs": [],
   "source": [
    "all_score = 0\n",
    "for x, y in zip(gg.tv_show_id.values, subm.tv_show_id.values):\n",
    "    score = len(set(x.split(' ')) & set(y.split(' ')))\n",
    "    score = 5 - score\n",
    "    all_score += score"
   ]
  },
  {
   "cell_type": "code",
   "execution_count": null,
   "metadata": {},
   "outputs": [],
   "source": [
    "tv_schedule[tv_schedule.channel_id == 1174]"
   ]
  },
  {
   "cell_type": "code",
   "execution_count": null,
   "metadata": {},
   "outputs": [],
   "source": [
    "set(data.vsetv_id.values) - set(tv_schedule.channel_id.values)"
   ]
  },
  {
   "cell_type": "code",
   "execution_count": null,
   "metadata": {},
   "outputs": [],
   "source": []
  }
 ],
 "metadata": {
  "kernelspec": {
   "display_name": "Python 3",
   "language": "python",
   "name": "python3"
  },
  "language_info": {
   "codemirror_mode": {
    "name": "ipython",
    "version": 3
   },
   "file_extension": ".py",
   "mimetype": "text/x-python",
   "name": "python",
   "nbconvert_exporter": "python",
   "pygments_lexer": "ipython3",
   "version": "3.8.3"
  }
 },
 "nbformat": 4,
 "nbformat_minor": 4
}
